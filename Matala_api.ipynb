{
 "cells": [
  {
   "cell_type": "markdown",
   "metadata": {},
   "source": [
    "### API"
   ]
  },
  {
   "cell_type": "markdown",
   "metadata": {},
   "source": [
    "####  318590890 ,נתנאל פרחי"
   ]
  },
  {
   "cell_type": "markdown",
   "metadata": {},
   "source": [
    "##### התקנה וייבוא ספריות\n",
    "#####  קריאת הקובץ"
   ]
  },
  {
   "cell_type": "code",
   "execution_count": 2,
   "metadata": {},
   "outputs": [
    {
     "name": "stdout",
     "output_type": "stream",
     "text": [
      "Requirement already satisfied: googlemaps in c:\\users\\netaf\\anaconda3\\lib\\site-packages (4.10.0)\n",
      "Requirement already satisfied: requests<3.0,>=2.20.0 in c:\\users\\netaf\\anaconda3\\lib\\site-packages (from googlemaps) (2.28.2)\n",
      "Requirement already satisfied: urllib3<1.27,>=1.21.1 in c:\\users\\netaf\\anaconda3\\lib\\site-packages (from requests<3.0,>=2.20.0->googlemaps) (1.25.11)\n",
      "Requirement already satisfied: certifi>=2017.4.17 in c:\\users\\netaf\\anaconda3\\lib\\site-packages (from requests<3.0,>=2.20.0->googlemaps) (2020.6.20)\n",
      "Requirement already satisfied: idna<4,>=2.5 in c:\\users\\netaf\\anaconda3\\lib\\site-packages (from requests<3.0,>=2.20.0->googlemaps) (2.10)\n",
      "Requirement already satisfied: charset-normalizer<4,>=2 in c:\\users\\netaf\\anaconda3\\lib\\site-packages (from requests<3.0,>=2.20.0->googlemaps) (3.1.0)\n"
     ]
    }
   ],
   "source": [
    "!pip install googlemaps \n",
    "# בבקשה לוודא שמתקינים את הספריה הזאת בכדי שהקוד יעבוד!\n",
    "import pandas as pd\n",
    "import googlemaps \n",
    "# נקרא את הקובץ שמכיל את נתוני היעדים\n",
    "destination=open('dests.txt')\n",
    "destination=destination.read()\n",
    "destination_list=destination.splitlines()\n"
   ]
  },
  {
   "cell_type": "markdown",
   "metadata": {},
   "source": [
    "#### התחברות לשירותי גוגל \n",
    "###### API"
   ]
  },
  {
   "cell_type": "code",
   "execution_count": 9,
   "metadata": {},
   "outputs": [
    {
     "data": {
      "text/plain": [
       "{'destination_addresses': ['İstanbul, Türkiye',\n",
       "  'Amsterdam, Netherlands',\n",
       "  'Valletta, Malta',\n",
       "  'Basel, Switzerland',\n",
       "  'Doha, Qatar'],\n",
       " 'origin_addresses': ['Tel Aviv-Yafo, Israel'],\n",
       " 'rows': [{'elements': [{'distance': {'text': '1,815 km', 'value': 1815227},\n",
       "     'duration': {'text': '21 hours 3 mins', 'value': 75772},\n",
       "     'status': 'OK'},\n",
       "    {'distance': {'text': '4,533 km', 'value': 4532541},\n",
       "     'duration': {'text': '2 days 0 hours', 'value': 173011},\n",
       "     'status': 'OK'},\n",
       "    {'distance': {'text': '3,793 km', 'value': 3792883},\n",
       "     'duration': {'text': '2 days 3 hours', 'value': 183056},\n",
       "     'status': 'OK'},\n",
       "    {'distance': {'text': '4,093 km', 'value': 4092805},\n",
       "     'duration': {'text': '1 day 20 hours', 'value': 158547},\n",
       "     'status': 'OK'},\n",
       "    {'distance': {'text': '2,164 km', 'value': 2164477},\n",
       "     'duration': {'text': '22 hours 39 mins', 'value': 81527},\n",
       "     'status': 'OK'}]}],\n",
       " 'status': 'OK'}"
      ]
     },
     "execution_count": 9,
     "metadata": {},
     "output_type": "execute_result"
    }
   ],
   "source": [
    "#API_KEY ='' #מחקתי את המפתח בכדי שהוא לא ינוצל לרעה\n",
    "try:\n",
    "    gmaps = googlemaps.Client(key=API_KEY)\n",
    "    distance_matrix = gmaps.distance_matrix(\"Tel Aviv\", destination_list)\n",
    "except:\n",
    "    print(\"you have error with the request, try again\")\n",
    "distance_matrix"
   ]
  },
  {
   "cell_type": "markdown",
   "metadata": {},
   "source": [
    "###  שליפת מרחק , זמן וקווי רוחב ואורך לדאטה פריים"
   ]
  },
  {
   "cell_type": "code",
   "execution_count": 6,
   "metadata": {},
   "outputs": [],
   "source": [
    "results=pd.DataFrame(distance_matrix[\"rows\"][0][\"elements\"])\n",
    "results[\"Target\"]=destination_list\n",
    "results.drop(columns=\"status\",inplace=True)\n",
    "\n",
    "\n",
    "################################################\n",
    "duration_list=[]\n",
    "distance_list=[]\n",
    "longitude_list=[]\n",
    "latitude_list=[]\n",
    "#------------> איטרציות לשליפת הנתונים עבור כל מדינה\n",
    "for i in range(0,len(results)):\n",
    "\n",
    "    distance_km=round(float(results[\"distance\"][i]['value']/1000),2)\n",
    "    duration_min=results[\"duration\"][i][\"text\"]\n",
    "    distance_list.append(distance_km)\n",
    "    duration_list.append(duration_min)\n",
    "    # Geocoding location\n",
    "    geocode_result = gmaps.geocode(destination_list[i])\n",
    "    latitude = geocode_result[0][\"geometry\"][\"location\"][\"lat\"]\n",
    "    longitude= geocode_result[0][\"geometry\"][\"location\"][\"lng\"]\n",
    "    longitude_list.append(longitude)\n",
    "    latitude_list.append(latitude)\n",
    "#------------> השמה    \n",
    "results[\"duration\"]=duration_list\n",
    "results[\"distance\"]=distance_list\n",
    "results[\"longitude\"]=longitude_list\n",
    "results[\"latitude\"]=latitude_list\n",
    "new_order=[ \"Target\",'distance', 'duration', 'longitude','latitude']\n",
    "results=results.reindex(columns=new_order)\n"
   ]
  },
  {
   "cell_type": "markdown",
   "metadata": {},
   "source": [
    "#### DataFrame result\n",
    "###### שאלתי את ענת לגבי המרחק,והיא אמרה שנכון לשלוף את המרחק כמספר ואת הזמן כטקסט "
   ]
  },
  {
   "cell_type": "code",
   "execution_count": 7,
   "metadata": {},
   "outputs": [
    {
     "data": {
      "text/html": [
       "<div>\n",
       "<style scoped>\n",
       "    .dataframe tbody tr th:only-of-type {\n",
       "        vertical-align: middle;\n",
       "    }\n",
       "\n",
       "    .dataframe tbody tr th {\n",
       "        vertical-align: top;\n",
       "    }\n",
       "\n",
       "    .dataframe thead th {\n",
       "        text-align: right;\n",
       "    }\n",
       "</style>\n",
       "<table border=\"1\" class=\"dataframe\">\n",
       "  <thead>\n",
       "    <tr style=\"text-align: right;\">\n",
       "      <th></th>\n",
       "      <th>Target</th>\n",
       "      <th>distance</th>\n",
       "      <th>duration</th>\n",
       "      <th>longitude</th>\n",
       "      <th>latitude</th>\n",
       "    </tr>\n",
       "  </thead>\n",
       "  <tbody>\n",
       "    <tr>\n",
       "      <th>0</th>\n",
       "      <td>Istanbul</td>\n",
       "      <td>1815.23</td>\n",
       "      <td>21 hours 3 mins</td>\n",
       "      <td>28.978359</td>\n",
       "      <td>41.008238</td>\n",
       "    </tr>\n",
       "    <tr>\n",
       "      <th>1</th>\n",
       "      <td>Amsterdam</td>\n",
       "      <td>4532.54</td>\n",
       "      <td>2 days 0 hours</td>\n",
       "      <td>4.904139</td>\n",
       "      <td>52.367573</td>\n",
       "    </tr>\n",
       "    <tr>\n",
       "      <th>2</th>\n",
       "      <td>Valletta</td>\n",
       "      <td>3792.88</td>\n",
       "      <td>2 days 3 hours</td>\n",
       "      <td>14.514100</td>\n",
       "      <td>35.899237</td>\n",
       "    </tr>\n",
       "    <tr>\n",
       "      <th>3</th>\n",
       "      <td>Basel</td>\n",
       "      <td>4092.80</td>\n",
       "      <td>1 day 20 hours</td>\n",
       "      <td>7.588576</td>\n",
       "      <td>47.559599</td>\n",
       "    </tr>\n",
       "    <tr>\n",
       "      <th>4</th>\n",
       "      <td>Doha</td>\n",
       "      <td>2164.48</td>\n",
       "      <td>22 hours 39 mins</td>\n",
       "      <td>51.531040</td>\n",
       "      <td>25.285447</td>\n",
       "    </tr>\n",
       "  </tbody>\n",
       "</table>\n",
       "</div>"
      ],
      "text/plain": [
       "      Target  distance          duration  longitude   latitude\n",
       "0   Istanbul   1815.23   21 hours 3 mins  28.978359  41.008238\n",
       "1  Amsterdam   4532.54    2 days 0 hours   4.904139  52.367573\n",
       "2   Valletta   3792.88    2 days 3 hours  14.514100  35.899237\n",
       "3      Basel   4092.80    1 day 20 hours   7.588576  47.559599\n",
       "4       Doha   2164.48  22 hours 39 mins  51.531040  25.285447"
      ]
     },
     "execution_count": 7,
     "metadata": {},
     "output_type": "execute_result"
    }
   ],
   "source": [
    "results"
   ]
  },
  {
   "cell_type": "markdown",
   "metadata": {},
   "source": [
    "### שלושת הערים הכי רחוקות (בק\"מ) מתל-אביב"
   ]
  },
  {
   "cell_type": "markdown",
   "metadata": {},
   "source": [
    "##### מציג רק מידע רלוונטי - מרחק מתל אביב בק\"מ "
   ]
  },
  {
   "cell_type": "code",
   "execution_count": 8,
   "metadata": {},
   "outputs": [
    {
     "data": {
      "text/html": [
       "<div>\n",
       "<style scoped>\n",
       "    .dataframe tbody tr th:only-of-type {\n",
       "        vertical-align: middle;\n",
       "    }\n",
       "\n",
       "    .dataframe tbody tr th {\n",
       "        vertical-align: top;\n",
       "    }\n",
       "\n",
       "    .dataframe thead th {\n",
       "        text-align: right;\n",
       "    }\n",
       "</style>\n",
       "<table border=\"1\" class=\"dataframe\">\n",
       "  <thead>\n",
       "    <tr style=\"text-align: right;\">\n",
       "      <th></th>\n",
       "      <th>Target</th>\n",
       "      <th>distance</th>\n",
       "    </tr>\n",
       "  </thead>\n",
       "  <tbody>\n",
       "    <tr>\n",
       "      <th>0</th>\n",
       "      <td>Amsterdam</td>\n",
       "      <td>4532.54</td>\n",
       "    </tr>\n",
       "    <tr>\n",
       "      <th>1</th>\n",
       "      <td>Basel</td>\n",
       "      <td>4092.80</td>\n",
       "    </tr>\n",
       "    <tr>\n",
       "      <th>2</th>\n",
       "      <td>Valletta</td>\n",
       "      <td>3792.88</td>\n",
       "    </tr>\n",
       "  </tbody>\n",
       "</table>\n",
       "</div>"
      ],
      "text/plain": [
       "      Target  distance\n",
       "0  Amsterdam   4532.54\n",
       "1      Basel   4092.80\n",
       "2   Valletta   3792.88"
      ]
     },
     "execution_count": 8,
     "metadata": {},
     "output_type": "execute_result"
    }
   ],
   "source": [
    "furthest=pd.DataFrame(results.sort_values(\"distance\",ascending=False).reset_index().iloc[:3,1:3])\n",
    "furthest"
   ]
  }
 ],
 "metadata": {
  "kernelspec": {
   "display_name": "Python 3",
   "language": "python",
   "name": "python3"
  },
  "language_info": {
   "codemirror_mode": {
    "name": "ipython",
    "version": 3
   },
   "file_extension": ".py",
   "mimetype": "text/x-python",
   "name": "python",
   "nbconvert_exporter": "python",
   "pygments_lexer": "ipython3",
   "version": "3.8.5"
  }
 },
 "nbformat": 4,
 "nbformat_minor": 4
}
